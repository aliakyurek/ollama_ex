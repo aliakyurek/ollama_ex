{
 "cells": [
  {
   "cell_type": "markdown",
   "id": "24891257",
   "metadata": {},
   "source": [
    "### Pre-requisites\n",
    "* Check that ollama is installed and running and a model is downloaded, in my example, I will use `qwen3`.\n",
    "  ```powershell\n",
    "  PS C:\\> ollama list\n",
    "  NAME        ID              SIZE      MODIFIED    \n",
    "  qwen3:8b    e4b5fd7f8af0    5.2 GB    4 weeks ago\n",
    "  ``` \n",
    "* Model may not be running yet in the background, it'll start when you run the first request.\n",
    "  ```powershell\n",
    "  PS C:\\> ollama ps\n",
    "  NAME    ID    SIZE    PROCESSOR    UNTIL\n",
    "  ```"
   ]
  },
  {
   "cell_type": "code",
   "execution_count": 9,
   "id": "b9196a79",
   "metadata": {},
   "outputs": [],
   "source": [
    "# drop text in <think></thing> tags using re\n",
    "import re\n",
    "def drop_think_tags(text: str) -> str:\n",
    "    return re.sub(r'<think>.*?</think>', '', text, flags=re.DOTALL)"
   ]
  },
  {
   "cell_type": "code",
   "execution_count": 21,
   "id": "42a341c6",
   "metadata": {},
   "outputs": [],
   "source": [
    "messages=[\n",
    "    {\n",
    "        'role': 'user',\n",
    "        'content': 'Tell me a joke about cats.',\n",
    "    }\n",
    "]"
   ]
  },
  {
   "cell_type": "markdown",
   "id": "f86039a2",
   "metadata": {},
   "source": [
    "### Ollama native"
   ]
  },
  {
   "cell_type": "code",
   "execution_count": 22,
   "id": "91e27cb8",
   "metadata": {},
   "outputs": [],
   "source": [
    "from ollama import chat\n",
    "from ollama import ChatResponse\n",
    "\n",
    "# it automatically uses localhost:11434 or OLLAMA_HOST env var\n",
    "response: ChatResponse = chat(model='qwen3:8b', messages=messages)"
   ]
  },
  {
   "cell_type": "code",
   "execution_count": 23,
   "id": "63e71e8d",
   "metadata": {},
   "outputs": [
    {
     "name": "stdout",
     "output_type": "stream",
     "text": [
      "\n",
      "\n",
      "Why did the cat cross the road?  \n",
      "To get to the other *mew*! 🐾  \n",
      "\n",
      "*(Pun on \"meow\" and \"mew\" — because cats are experts at both sounds and existential decisions.)* 😸\n"
     ]
    }
   ],
   "source": [
    "message = drop_think_tags(response.message.content)\n",
    "print(message)"
   ]
  },
  {
   "cell_type": "markdown",
   "id": "6cc9b980",
   "metadata": {},
   "source": [
    "### Ollama openai"
   ]
  },
  {
   "cell_type": "code",
   "execution_count": null,
   "id": "875a9e65",
   "metadata": {},
   "outputs": [],
   "source": [
    "from openai import OpenAI\n",
    "\n",
    "client = OpenAI(\n",
    "    base_url = 'http://localhost:11434/v1',\n",
    "    api_key='ollama', # required, but unused\n",
    ")\n",
    "\n",
    "response = client.chat.completions.create(model=\"qwen3:8b\",messages=messages)"
   ]
  },
  {
   "cell_type": "code",
   "execution_count": 26,
   "id": "ba9dfc58",
   "metadata": {},
   "outputs": [
    {
     "name": "stdout",
     "output_type": "stream",
     "text": [
      "\n",
      "\n",
      "Why did the cat go to the doctor?  \n",
      "It had a *purr-fectly* valid reason! 😺\n"
     ]
    }
   ],
   "source": [
    "message = drop_think_tags(response.choices[0].message.content)\n",
    "print(message)"
   ]
  },
  {
   "cell_type": "markdown",
   "id": "f195e56e",
   "metadata": {},
   "source": [
    "### Langchain"
   ]
  },
  {
   "cell_type": "code",
   "execution_count": null,
   "id": "c3e2a10d",
   "metadata": {},
   "outputs": [],
   "source": [
    "from langchain_ollama import ChatOllama\n",
    "\n",
    "llm = ChatOllama(\n",
    "        model=\"qwen3:8b\",\n",
    "        temperature=0,\n",
    "        # other params...\n",
    "    )\n",
    "# Following is possible with langchain as message, so we can pase messages as it is.\n",
    "\"\"\"\n",
    "    - BaseMessage\n",
    "    - 2-tuple of (role string, template); e.g., (\"human\", \"{user_input}\")\n",
    "    - dict: a message dict with role and content keys\n",
    "    - string: shorthand for (\"human\", template); e.g., \"{user_input}\"\n",
    "\"\"\"\n",
    "response = llm.invoke(input=messages)"
   ]
  },
  {
   "cell_type": "code",
   "execution_count": 30,
   "id": "b82fe2d5",
   "metadata": {},
   "outputs": [
    {
     "name": "stdout",
     "output_type": "stream",
     "text": [
      "\n",
      "\n",
      "Here's a classic cat joke for you:  \n",
      "\n",
      "**\"Why did the cat bring a ladder to the party?**  \n",
      "*To reach the higher level of the party!*\"  \n",
      "\n",
      "*(Bonus: The cat also brought a tiny stool for the guest of honor — the mouse.)* 😸  \n",
      "\n",
      "Let me know if you want a *meow*-worthy pun!\n"
     ]
    }
   ],
   "source": [
    "message = drop_think_tags(response.content)\n",
    "print(message)"
   ]
  },
  {
   "cell_type": "markdown",
   "id": "27919722",
   "metadata": {},
   "source": [
    "### Litellm"
   ]
  },
  {
   "cell_type": "code",
   "execution_count": 34,
   "id": "1955d436",
   "metadata": {},
   "outputs": [],
   "source": [
    "from litellm import completion\n",
    "\n",
    "# similar to OpenAI\n",
    "response = completion(\n",
    "    model=\"ollama/qwen3:8b\",\n",
    "    messages=messages\n",
    ")"
   ]
  },
  {
   "cell_type": "code",
   "execution_count": 35,
   "id": "c55a3dc0",
   "metadata": {},
   "outputs": [
    {
     "name": "stdout",
     "output_type": "stream",
     "text": [
      "\n",
      "\n",
      "Here's a classic cat joke for you:  \n",
      "\n",
      "**Why did the cat get kicked out of the house?**  \n",
      "*Because it kept knocking things over!* 🐾  \n",
      "\n",
      "*(And don’t worry—it’s still allowed to knock things over… just not *everything*!)* 😸\n"
     ]
    }
   ],
   "source": [
    "message = drop_think_tags(response.choices[0].message.content)\n",
    "print(message)"
   ]
  }
 ],
 "metadata": {
  "kernelspec": {
   "display_name": ".venv",
   "language": "python",
   "name": "python3"
  },
  "language_info": {
   "codemirror_mode": {
    "name": "ipython",
    "version": 3
   },
   "file_extension": ".py",
   "mimetype": "text/x-python",
   "name": "python",
   "nbconvert_exporter": "python",
   "pygments_lexer": "ipython3",
   "version": "3.12.7"
  }
 },
 "nbformat": 4,
 "nbformat_minor": 5
}
